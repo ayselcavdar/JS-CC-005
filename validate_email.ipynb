{
 "metadata": {
  "language_info": {
   "codemirror_mode": {
    "name": "ipython",
    "version": 3
   },
   "file_extension": ".py",
   "mimetype": "text/x-python",
   "name": "python",
   "nbconvert_exporter": "python",
   "pygments_lexer": "ipython3",
   "version": "3.7.6-final"
  },
  "orig_nbformat": 2,
  "kernelspec": {
   "name": "Python 3.7.6 64-bit ('base': conda)",
   "display_name": "Python 3.7.6 64-bit ('base': conda)",
   "metadata": {
    "interpreter": {
     "hash": "7969e2d402af0b7545bda0eb3df187ecc624bac72a8c45c1a25d9ecc321b2904"
    }
   }
  }
 },
 "nbformat": 4,
 "nbformat_minor": 2,
 "cells": [
  {
   "cell_type": "code",
   "execution_count": null,
   "metadata": {},
   "outputs": [],
   "source": [
    "# Python program to validate an Email \n",
    "  \n",
    "# import re module \n",
    "  \n",
    "# re module provides support \n",
    "# for regular expressions \n",
    "import re \n",
    "  \n",
    "# Make a regular expression \n",
    "# for validating an Email \n",
    "regex = '^[a-z0-9]+[\\._]?[a-z0-9]+[@]\\w+[.]\\w{2,3}$'\n",
    "# for custom mails use: '^[a-z0-9]+[\\._]?[a-z0-9]+[@]\\w+[.]\\w+$' \n",
    "      \n",
    "# Define a function for \n",
    "# for validating an Email\n",
    "\n",
    "email = input('Enter your email adress: ')\n",
    "\n",
    "def check(email):  \n",
    "  \n",
    "    # pass the regular expression \n",
    "    # and the string in search() method \n",
    "    if(re.search(regex,email)):  \n",
    "        print(\"Valid Email\")  \n",
    "          \n",
    "    else:  \n",
    "        print(\"Invalid Email\")  \n",
    "      \n",
    "  \n",
    "# Driver Code  \n",
    "if __name__ == '__main__' : \n",
    "      \n",
    "    # calling run function  \n",
    "    check(email)"
   ]
  },
  {
   "cell_type": "code",
   "execution_count": null,
   "metadata": {},
   "outputs": [],
   "source": []
  }
 ]
}